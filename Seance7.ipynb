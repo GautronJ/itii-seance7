{
  "nbformat": 4,
  "nbformat_minor": 0,
  "metadata": {
    "kernelspec": {
      "display_name": "Python 3",
      "language": "python",
      "name": "python3"
    },
    "language_info": {
      "codemirror_mode": {
        "name": "ipython",
        "version": 3
      },
      "file_extension": ".py",
      "mimetype": "text/x-python",
      "name": "python",
      "nbconvert_exporter": "python",
      "pygments_lexer": "ipython3",
      "version": "3.7.6"
    },
    "colab": {
      "name": "Seance7.ipynb",
      "provenance": []
    }
  },
  "cells": [
    {
      "cell_type": "markdown",
      "metadata": {
        "id": "tyDuczxACDth"
      },
      "source": [
        "En utilisant numpy:"
      ]
    },
    {
      "cell_type": "markdown",
      "metadata": {
        "id": "8QSvBIb8CDti"
      },
      "source": [
        "Ex 1 :Addition\n",
        "Écrire un programme pour lire les éléments de deux matrices et ajoutez les deux matrices dans la troisième.\n",
        "\n",
        "La somme de deux matrices de taille (m,n), $(A_{ij}) et (B_{ij}) notée $A+B$  est à nouveau une matrice (C_{ij}) de taille (m,n), obtenue en additionnant les éléments correspondants: $c_{ij}=a_{ij}+b_{ij}$\n"
      ]
    },
    {
      "cell_type": "code",
      "metadata": {
        "colab": {
          "base_uri": "https://localhost:8080/"
        },
        "id": "mevNgTgeCDti",
        "outputId": "76b40121-1b51-45db-ac6e-7f15e295e56b"
      },
      "source": [
        "A=[[1],[2],[3]]\n",
        "B=[[1],[2],[3]]\n",
        "C=[]\n",
        "if len(A)==len(B):\n",
        "  for i in range (len(A)):\n",
        "    if len(A[i])==len(B[i]):\n",
        "      for j in range (len(A[i])):\n",
        "        add=A[i][j]+B[i][j]\n",
        "        C.append(add)\n",
        "    else :\n",
        "      print (\"impossible\")\n",
        "      break\n",
        "else :\n",
        "      print (\"impossible\")\n",
        "print (C)\n"
      ],
      "execution_count": 29,
      "outputs": [
        {
          "output_type": "stream",
          "text": [
            "[2, 4, 6]\n"
          ],
          "name": "stdout"
        }
      ]
    },
    {
      "cell_type": "markdown",
      "metadata": {
        "id": "02g9yda4CDti"
      },
      "source": [
        "Ex2 :Multiplication\n",
        "Écrire un programme pour lire les éléments de deux matrices, puis multipliez les deux matrices dans la troisième.\n",
        "\n",
        "Deux matrices ne peuvent être multipliées que si le nombre de colonnes de la première matrice est le même que le nombre de lignes de la seconde matrice.\n",
        "\n",
        "Si $ A=(a_{ij})$ est une matrice de taille (m,n), $ B=(b_{ij})$ et est une matrice de taille (n,p), alors leur produit, noté $AB=(c_{ij})$ est une matrice de taille (m,p) définie par :\n",
        "$$\\forall i,j : c_{ij}=\\sum_{k=i}^{n} a_{ik}*b_{kj}$$"
      ]
    },
    {
      "cell_type": "code",
      "metadata": {
        "colab": {
          "base_uri": "https://localhost:8080/"
        },
        "id": "19GgU9sYCDti",
        "outputId": "75540b0c-8fff-4443-9605-892eb4c84caa"
      },
      "source": [
        "import numpy\n",
        "B=[[1,2],\n",
        "   [2,2],\n",
        "   [3,2]]\n",
        "A=[[1,2,3],\n",
        "   [1,2,3]]\n",
        "print(numpy.dot(A,B))\n"
      ],
      "execution_count": 49,
      "outputs": [
        {
          "output_type": "stream",
          "text": [
            "[[14 12]\n",
            " [14 12]]\n"
          ],
          "name": "stdout"
        }
      ]
    },
    {
      "cell_type": "markdown",
      "metadata": {
        "id": "onMIKwWcCDti"
      },
      "source": [
        "Ex 3: Matrice de Markov\n",
        "\n",
        "Une matrice de Markov est une matrice carrée dont chaque élément est un réel compris entre 0 et 1 et dont la somme des éléments de chaque ligne vaut 1. Cela correspond, en probabilité, à la matrice de transition d'une chaîne de Markov finie.\n",
        "\n",
        "Une matrice est dite bistochastique (ou doublement stochastique) si la somme des éléments de chaque ligne et de chaque colonne vaut 1.\n",
        "\n",
        "1. Ecrire une fonction eststochastique(P) qui permet de vérifier est ce que la matrice P est stochastique ou non\n",
        "2. Ecrire une fonction estbistochastique(P) qui permet de vérifier est ce que la matrice P est bistochastique ou non\n",
        "3. Ecrire une fonction vecteurstable(G, h) qui permet de vérifier est ce que h est un vecteur stable de G ou non\n",
        "\n"
      ]
    },
    {
      "cell_type": "code",
      "metadata": {
        "colab": {
          "base_uri": "https://localhost:8080/",
          "height": 35
        },
        "id": "eeoLTCrSCDti",
        "outputId": "bf36a039-b7f0-49f8-a644-ad3e7ea724dc"
      },
      "source": [
        "def eststochastique(m):\n",
        "  a=0\n",
        "  for i in range (len(m)):\n",
        "    for j in range (len(m[i])):\n",
        "      a+=m[i][j]\n",
        "    if a!=1:\n",
        "      return \"pas stochastique\"\n",
        "    a=0\n",
        "  return \"stochastique\"\n",
        "\n",
        "m=[[0.6,0.4],[0.5,0.5]]\n",
        "eststochastique(m)"
      ],
      "execution_count": 55,
      "outputs": [
        {
          "output_type": "execute_result",
          "data": {
            "application/vnd.google.colaboratory.intrinsic+json": {
              "type": "string"
            },
            "text/plain": [
              "'stochastique'"
            ]
          },
          "metadata": {
            "tags": []
          },
          "execution_count": 55
        }
      ]
    },
    {
      "cell_type": "code",
      "metadata": {
        "colab": {
          "base_uri": "https://localhost:8080/",
          "height": 35
        },
        "id": "M3zD0ieeS8Zg",
        "outputId": "51eeb246-ea8a-4e56-f0ff-3739bceb2d33"
      },
      "source": [
        "def estbistochastique(m):\n",
        "  for i in range (len(m)):\n",
        "    a=0\n",
        "    b=0\n",
        "    for j in range (len(m[i])):\n",
        "      a+=m[i][j]\n",
        "      b+=m[j][i]\n",
        "    if a!=1:\n",
        "      return \"pas bistochastique\"\n",
        "    if b!=1:\n",
        "      return \"pas bistochastique\"\n",
        "     \n",
        "  return \"bistochastique\"\n",
        "\n",
        "m=[[0.5,0.5],[0.5,0.5]]\n",
        "estbistochastique(m)"
      ],
      "execution_count": 59,
      "outputs": [
        {
          "output_type": "execute_result",
          "data": {
            "application/vnd.google.colaboratory.intrinsic+json": {
              "type": "string"
            },
            "text/plain": [
              "'bistochastique'"
            ]
          },
          "metadata": {
            "tags": []
          },
          "execution_count": 59
        }
      ]
    },
    {
      "cell_type": "markdown",
      "metadata": {
        "id": "VwD800C5CDtj"
      },
      "source": [
        "Ex 4: Transposer\n",
        "\n",
        "Programmer une fonction qui, étant donné une matrice à deux dimensions A, retourne lamatrice B dont la première colonne est la première ligne de A, la seconde la deuxième ligne de A, etc. B s’appelle la transposée de A."
      ]
    },
    {
      "cell_type": "code",
      "metadata": {
        "colab": {
          "base_uri": "https://localhost:8080/"
        },
        "id": "myO3susSCDtj",
        "outputId": "b42dfda8-eff8-4ca4-e170-003440a1a718"
      },
      "source": [
        "a=[[1,2],[3,4]]\n",
        "b=[]\n",
        "i=0\n",
        "b.append(a[i+1])\n",
        "b.append(a[i])\n",
        "print(b)\n"
      ],
      "execution_count": 60,
      "outputs": [
        {
          "output_type": "stream",
          "text": [
            "[[3, 4], [1, 2]]\n"
          ],
          "name": "stdout"
        }
      ]
    },
    {
      "cell_type": "markdown",
      "metadata": {
        "id": "uqiPf5jFCDtj"
      },
      "source": [
        "Ex 5: Permutations\n",
        "1. $M$ désignant une matrice quelconque d’entiers à $l_i$ lignes et $co$ colonnes, $n$ un entier quelconque, programmer une fonction qui retourne la matrice $Sortie$ qui empile verticalement les $co+1$ matrices obtenues en adjoignant à $M$ une colonne $A$ à $li$ lignes dont tousles éléments sont égaux à $n$, $A$ étant placée d’abord devant $M$, puis entre la première et deuxième colonne de $M^a$,etc, jusqu’à ce que $A$ devienne sa dernière colonne. La matriceobtenue  aura $co+1$ colonnes et $(n+1)$ $li$ lignes\n",
        "\n",
        "2. Écrire toutes les permutations de(1, ..., n)"
      ]
    },
    {
      "cell_type": "code",
      "metadata": {
        "id": "41OR_yJkWWsR"
      },
      "source": [
        "a=[[1,2],[3,4]]\n",
        "b=[]\n",
        "c=[]\n",
        "for i in range (len(a)):\n",
        "  for j in range (len(a[i])):\n",
        "    c.append([a[i][j]],[a[i+1][j]],[a[i+2][j]])\n",
        "\n",
        "\n",
        "b.append(a[i+1])\n",
        "b.append(a[i])\n",
        "print(b)"
      ],
      "execution_count": null,
      "outputs": []
    }
  ]
}